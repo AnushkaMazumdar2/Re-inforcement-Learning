{
  "nbformat": 4,
  "nbformat_minor": 0,
  "metadata": {
    "colab": {
      "provenance": [],
      "authorship_tag": "ABX9TyMPH8MgSV3J/Ans160gqOs7",
      "include_colab_link": true
    },
    "kernelspec": {
      "name": "python3",
      "display_name": "Python 3"
    },
    "language_info": {
      "name": "python"
    }
  },
  "cells": [
    {
      "cell_type": "markdown",
      "metadata": {
        "id": "view-in-github",
        "colab_type": "text"
      },
      "source": [
        "<a href=\"https://colab.research.google.com/github/AnushkaMazumdar2/Re-inforcement-Learning/blob/main/2348505_Lab4(RL).ipynb\" target=\"_parent\"><img src=\"https://colab.research.google.com/assets/colab-badge.svg\" alt=\"Open In Colab\"/></a>"
      ]
    },
    {
      "cell_type": "markdown",
      "source": [
        "**Importing Necessary Libraries**"
      ],
      "metadata": {
        "id": "YLXI3_EL6pcL"
      }
    },
    {
      "cell_type": "code",
      "execution_count": null,
      "metadata": {
        "id": "jZPkOwB36o7u"
      },
      "outputs": [],
      "source": [
        "import numpy as np\n",
        "import networkx as nx\n",
        "import matplotlib.pyplot as plt"
      ]
    },
    {
      "cell_type": "markdown",
      "source": [
        "## **Develop a program to perform policy evaluation and improvement for a given MDP**\n",
        "\n",
        "### Step 1: Define the MDP\n",
        "\n",
        "The `MDP` class is defined to model the environment, including:\n",
        "- **States**: A list of possible states.\n",
        "- **Actions**: A list of possible actions.\n",
        "- **Transition Probabilities (`transition_probs`)**: A dictionary where `transition_probs[s][a][next_state]` gives the probability of transitioning from state `s` to `next_state` when action `a` is taken.\n",
        "- **Rewards (`rewards`)**: A dictionary where `rewards[s][a][next_state]` provides the reward received when moving from `s` to `next_state` via action `a`.\n",
        "- **Discount Factor (`gamma`)**: A value between 0 and 1 that determines how much future rewards are valued compared to immediate rewards.\n",
        "\n",
        "### Step 2: Policy Evaluation\n",
        "\n",
        "The `policy_evaluation` method calculates the expected reward (value) for each state under the current policy. It iteratively updates each state's value until the changes are smaller than a set threshold, meaning convergence is reached.\n",
        "\n",
        "### Step 3: Policy Improvement\n",
        "\n",
        "The `policy_improvement` method updates the policy by checking each action's potential reward for each state. It calculates the value of each action and picks the one that yields the maximum expected return. If the policy stabilizes (i.e., doesn’t change), it signals that we have the optimal policy.\n",
        "\n",
        "\n",
        "### Step 4: Policy Iteration\n",
        "\n",
        "The `policy_iteration` method combines the above steps. It alternates between policy evaluation and policy improvement until the policy no longer changes, meaning it’s optimal."
      ],
      "metadata": {
        "id": "eG1_9gMx6wTR"
      }
    },
    {
      "cell_type": "code",
      "source": [
        "class MDP:\n",
        "    def __init__(self, states, actions, transition_probs, rewards, gamma=0.9):\n",
        "        self.states = states\n",
        "        self.actions = actions\n",
        "        self.transition_probs = transition_probs\n",
        "        self.rewards = rewards\n",
        "        self.gamma = gamma\n",
        "        self.value_function = np.zeros(len(states))\n",
        "        self.policy = np.zeros(len(states), dtype=int)\n",
        "    def policy_evaluation(self, threshold=1e-6):\n",
        "        while True:\n",
        "            delta = 0\n",
        "            for s in self.states:\n",
        "                v = self.value_function[s]\n",
        "                action = self.policy[s]\n",
        "                self.value_function[s] = sum([\n",
        "                    self.transition_probs[s][action][next_state] *\n",
        "                    (self.rewards[s][action][next_state] + self.gamma * self.value_function[next_state])\n",
        "                    for next_state in self.states\n",
        "                ])\n",
        "                delta = max(delta, abs(v - self.value_function[s]))\n",
        "            if delta < threshold:\n",
        "                break\n",
        "    def policy_improvement(self):\n",
        "        policy_stable = True\n",
        "        for s in self.states:\n",
        "            old_action = self.policy[s]\n",
        "            action_values = np.zeros(len(self.actions))\n",
        "            for a in self.actions:\n",
        "                action_values[a] = sum([\n",
        "                    self.transition_probs[s][a][next_state] *\n",
        "                    (self.rewards[s][a][next_state] + self.gamma * self.value_function[next_state])\n",
        "                    for next_state in self.states\n",
        "                ])\n",
        "            self.policy[s] = np.argmax(action_values)\n",
        "            if old_action != self.policy[s]:\n",
        "                policy_stable = False\n",
        "        return policy_stable\n",
        "    def policy_iteration(self):\n",
        "        while True:\n",
        "            self.policy_evaluation()\n",
        "            if self.policy_improvement():\n",
        "                break\n",
        "        return self.policy, self.value_function\n",
        "\n",
        "states = [0, 1, 2]\n",
        "actions = [0, 1]\n",
        "transition_probs = {\n",
        "    0: {0: [0.8, 0.2, 0], 1: [0.1, 0.7, 0.2]},\n",
        "    1: {0: [0, 1, 0], 1: [0.4, 0.4, 0.2]},\n",
        "    2: {0: [0.3, 0.3, 0.4], 1: [0.5, 0.1, 0.4]}}\n",
        "rewards = {\n",
        "    0: {0: [0, 0, 0], 1: [0, 1, 0]},\n",
        "    1: {0: [0, 0, 0], 1: [0, 1, 0]},\n",
        "    2: {0: [0, 0, 0], 1: [0, 1, 0]}}\n",
        "\n",
        "mdp = MDP(states, actions, transition_probs, rewards)\n",
        "optimal_policy, optimal_value_function = mdp.policy_iteration()\n",
        "\n",
        "print(\"Optimal Policy:\", optimal_policy)\n",
        "print(\"Optimal Value Function:\", optimal_value_function)"
      ],
      "metadata": {
        "colab": {
          "base_uri": "https://localhost:8080/"
        },
        "id": "JU2zaDV46vs2",
        "outputId": "0ab919e4-4912-4e81-c08b-aade2cb28cf4"
      },
      "execution_count": 6,
      "outputs": [
        {
          "output_type": "stream",
          "name": "stdout",
          "text": [
            "Optimal Policy: [1 1 1]\n",
            "Optimal Value Function: [4.47473966 4.23851945 3.89859261]\n"
          ]
        }
      ]
    },
    {
      "cell_type": "markdown",
      "source": [
        "1. **Optimal Policy**: `[1, 1, 1]`\n",
        "   - This array represents the best action to take in each state (`S0`, `S1`, `S2`).\n",
        "   - Since each element in the array is `1`, the optimal policy suggests that for each state, you should choose action `1`.\n",
        "   - This means that, regardless of which state you're in, action `1` yields the highest expected return in the long run according to the computed policy.\n",
        "\n",
        "2. **Optimal Value Function**: `[4.47473966, 4.23851945, 3.89859261]`\n",
        "   - These values represent the expected cumulative reward (discounted) you can obtain from each state when following the optimal policy.\n",
        "   - Specifically:\n",
        "     - In state `S0`, the optimal long-term expected reward is approximately `4.47`.\n",
        "     - In state `S1`, it’s approximately `4.24`.\n",
        "     - In state `S2`, it’s approximately `3.90`.\n",
        "   - Higher values indicate that starting in that state and following the optimal policy results in better long-term rewards.\n"
      ],
      "metadata": {
        "id": "qBrufsUt7ks_"
      }
    },
    {
      "cell_type": "markdown",
      "source": [
        "### Graphical Representation of the States"
      ],
      "metadata": {
        "id": "O0li1sc1-GCV"
      }
    },
    {
      "cell_type": "code",
      "source": [
        "G = nx.DiGraph()\n",
        "\n",
        "states = [\"S0\", \"S1\", \"S2\"]\n",
        "\n",
        "transitions = {\n",
        "    (\"S0\", \"S1\"): 1,\n",
        "    (\"S0\", \"S2\"): 0,\n",
        "    (\"S1\", \"S0\"): 0,\n",
        "    (\"S1\", \"S2\"): 1,\n",
        "    (\"S2\", \"S0\"): 0,\n",
        "    (\"S2\", \"S1\"): 1\n",
        "}\n",
        "\n",
        "for state in states:\n",
        "    G.add_node(state)\n",
        "for (start, end), reward in transitions.items():\n",
        "    G.add_edge(start, end, label=f\"Reward: {reward}\")\n",
        "\n",
        "pos = {\n",
        "    \"S0\": (0, 1),\n",
        "    \"S1\": (1, 2),\n",
        "    \"S2\": (1, 0)}\n",
        "\n",
        "nx.draw(G, pos, with_labels=True, node_size=1500, node_color=\"skyblue\", font_size=12, font_weight=\"bold\", arrows=True)\n",
        "\n",
        "edge_labels = {(start, end): f\"R={reward}\" for (start, end), reward in transitions.items()}\n",
        "nx.draw_networkx_edge_labels(G, pos, edge_labels=edge_labels, font_color=\"red\", font_size=10)\n",
        "\n",
        "plt.title(\"MDP States and Rewards\")\n",
        "plt.show()"
      ],
      "metadata": {
        "colab": {
          "base_uri": "https://localhost:8080/",
          "height": 539
        },
        "id": "JOoyS9QS62g4",
        "outputId": "cee5b9b0-e5cd-41ca-f5f8-e6a2d66b3213"
      },
      "execution_count": null,
      "outputs": [
        {
          "output_type": "display_data",
          "data": {
            "text/plain": [
              "<Figure size 640x480 with 1 Axes>"
            ],
            "image/png": "[encoded data removed]"
          },
          "metadata": {}
        }
      ]
    }
  ]
}